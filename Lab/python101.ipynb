{
 "cells": [
  {
   "cell_type": "markdown",
   "metadata": {},
   "source": [
    "This exercise is to test your knowledge in:\n",
    "1. Input/Output functions\n",
    "2. Variables and Literals\n",
    "3. Assignment Operators\n",
    "4. Arithmetic Operators"
   ]
  },
  {
   "cell_type": "markdown",
   "metadata": {},
   "source": [
    "# **Exercise 1: Basic Arithmetic Operations**\n",
    "\n",
    "Write a Python program that does the following:\n",
    "\n",
    "* Prompts the user to enter two numbers. \n",
    "* Stores these numbers in two variables. \n",
    "* Performs and prints the results of addition, subtraction, multiplication and division of these two numbers."
   ]
  },
  {
   "cell_type": "code",
   "execution_count": 1,
   "metadata": {},
   "outputs": [
    {
     "name": "stdout",
     "output_type": "stream",
     "text": [
      "Addition: 25\n",
      "Subtraction: 15\n",
      "Multiplication: 100\n",
      "Division: 4.0\n"
     ]
    }
   ],
   "source": [
    "# prompt user to enter two numbers\n",
    "num1 = int(input(\"Enter the first number: \"))\n",
    "num2 = int(input(\"Enter the second number: \"))\n",
    "\n",
    "# calculate and display addition, subtraction, multiplication, and division\n",
    "print(\"Addition:\", num1+num2)\n",
    "print(\"Subtraction:\", num1-num2)\n",
    "print(\"Multiplication:\", num1*num2)\n",
    "print(\"Division:\", num1/num2)"
   ]
  },
  {
   "cell_type": "markdown",
   "metadata": {},
   "source": [
    "# **Exercise 2: Temperature Converter**\n",
    "\n",
    "Write a Python program that:\n",
    "\n",
    "* Prompts the user to enter a temperature in Celsius. \n",
    "* Converts the temperature to Fahrenheit.\n",
    "* Prints the temperature in Fahrenheit.\n",
    "\n",
    "(Hint: The formula to convert Celsius to Fahrenheit is: F = C * 9/5 + 32)"
   ]
  },
  {
   "cell_type": "code",
   "execution_count": 2,
   "metadata": {},
   "outputs": [
    {
     "name": "stdout",
     "output_type": "stream",
     "text": [
      "The temperature in Fahrenheit is 77.0\n"
     ]
    }
   ],
   "source": [
    "# prompt user to enter a temperature in Celsius\n",
    "celsius = int(input(\"Enter a temperature in Celsius: \"))\n",
    "\n",
    "# convert Celsius to Fahrenheit\n",
    "fahrenheit = celsius * 9 / 5 + 32\n",
    "\n",
    "# display the results\n",
    "print(\"The temperature in Fahrenheit is\", fahrenheit)"
   ]
  },
  {
   "cell_type": "markdown",
   "metadata": {},
   "source": [
    "# **Exercise 3: Area and Perimeter of a Rectangle**\n",
    "\n",
    "Write a Python program that:\n",
    "\n",
    "* Prompts the user to enter the length and width of a rectangle. \n",
    "* Calculates the area and perimeter of the rectangle. \n",
    "* Prints the area and perimeter."
   ]
  },
  {
   "cell_type": "code",
   "execution_count": 3,
   "metadata": {},
   "outputs": [
    {
     "name": "stdout",
     "output_type": "stream",
     "text": [
      "The area of the rectangle is 100\n",
      "The perimeter of the rectangle is 50\n"
     ]
    }
   ],
   "source": [
    "# prompt user to enter length and width of a rectangle\n",
    "length = int(input(\"Enter the length of the rectangle: \"))\n",
    "width = int(input(\"Enter the width of the rectangle: \"))\n",
    "\n",
    "# calculate the area and perimeter\n",
    "area = length * width\n",
    "perimeter = (2 * length) + (2 * width)\n",
    "\n",
    "# display the results\n",
    "print(\"The area of the rectangle is\", area)\n",
    "print(\"The perimeter of the rectangle is\", perimeter)"
   ]
  },
  {
   "cell_type": "markdown",
   "metadata": {},
   "source": [
    "# **Exercise 4: Simple Interest Calculator**\n",
    "\n",
    "Write a Python program that:\n",
    "\n",
    "* Prompts the user to enter the principal amount rate of interest, and time in years. \n",
    "* Calculates the simple interest. \n",
    "* Prints the simple interest.\n",
    "\n",
    "(Hint: The formula to calculate simple interest is: SI = (P * R * T) / 100)"
   ]
  },
  {
   "cell_type": "code",
   "execution_count": 4,
   "metadata": {},
   "outputs": [
    {
     "name": "stdout",
     "output_type": "stream",
     "text": [
      "The simple interest is 1000.0\n"
     ]
    }
   ],
   "source": [
    "# prompt user to enter the principal amount, rate of interest, and time in years\n",
    "amount = float(input(\"Enter the principal amount: \"))\n",
    "rate = float(input(\"Enter the rate of interest: \"))\n",
    "time = float(input(\"Enter the time in years: \"))\n",
    "\n",
    "# calculate the simple interest\n",
    "SI = (amount * rate * time) / 100\n",
    "\n",
    "# print the results\n",
    "print(\"The simple interest is\", SI)"
   ]
  },
  {
   "cell_type": "markdown",
   "metadata": {},
   "source": [
    "# **Exercise 5: Swapping Two Variables**\n",
    "\n",
    "Write a Python program that:\n",
    "\n",
    "* Prompts the user to enter two numbers. \n",
    "* Swaps the values of the two variables. \n",
    "* Prints the values before and after swapping."
   ]
  },
  {
   "cell_type": "code",
   "execution_count": 5,
   "metadata": {},
   "outputs": [
    {
     "name": "stdout",
     "output_type": "stream",
     "text": [
      "Before swapping, the first number is 10\n",
      "Before swapping, the second number is 25\n",
      "After swapping, the first number is 25\n",
      "After swapping, the second number is 10\n"
     ]
    }
   ],
   "source": [
    "# method 1: using assignment operator\n",
    "\n",
    "# prompt user to enter two numbers\n",
    "num1 = int(input(\"Enter the first number: \"))\n",
    "num2 = int(input(\"Enter the second number: \"))\n",
    "\n",
    "# display values before swapping\n",
    "print(\"Before swapping, the first number is\", num1)\n",
    "print(\"Before swapping, the second number is\", num2)\n",
    "\n",
    "# swap values\n",
    "temp = num1\n",
    "num1 = num2\n",
    "num2 = temp\n",
    "\n",
    "# display values after swapping\n",
    "print(\"After swapping, the first number is\", num1)\n",
    "print(\"After swapping, the second number is\", num2)"
   ]
  },
  {
   "cell_type": "code",
   "execution_count": 6,
   "metadata": {},
   "outputs": [
    {
     "name": "stdout",
     "output_type": "stream",
     "text": [
      "Before swapping, the first number is 10\n",
      "Before swapping, the second number is 25\n",
      "After swapping, the first number is 25\n",
      "After swapping, the second number is 10\n"
     ]
    }
   ],
   "source": [
    "# method 2: using arithmetic operator\n",
    "\n",
    "# prompt user to enter two numbers\n",
    "num1 = int(input(\"Enter the first number:\"))\n",
    "num2 = int(input(\"Enter the second number:\"))\n",
    "\n",
    "# display values before swapping\n",
    "print(\"Before swapping, the first number is\", num1)\n",
    "print(\"Before swapping, the second number is\", num2)\n",
    "\n",
    "# swap values\n",
    "num1 = num1 + num2\n",
    "num2 = num1 - num2\n",
    "num1 = num1 - num2\n",
    "\n",
    "# display values after swapping\n",
    "print(\"After swapping, the first number is\", num1)\n",
    "print(\"After swapping, the second number is\", num2)"
   ]
  },
  {
   "cell_type": "markdown",
   "metadata": {},
   "source": [
    "# **Exercise 6: Square and Cube**\n",
    "\n",
    "Write a Python program that:\n",
    "\n",
    "* Prompts the user to enter a number.\n",
    "* Calculates the square and cube of the number.\n",
    "* Prints the square and cube."
   ]
  },
  {
   "cell_type": "code",
   "execution_count": 7,
   "metadata": {},
   "outputs": [
    {
     "name": "stdout",
     "output_type": "stream",
     "text": [
      "The square of the number is 25\n",
      "The cube of the number is 125\n"
     ]
    }
   ],
   "source": [
    "# prompt user to enter a number\n",
    "num = int(input(\"Enter a number: \"))\n",
    "\n",
    "# calculate square and cube\n",
    "square = num ** 2\n",
    "cube = num ** 3\n",
    "\n",
    "# display results\n",
    "print(\"The square of the number is\", square)\n",
    "print(\"The cube of the number is\", cube)"
   ]
  },
  {
   "cell_type": "markdown",
   "metadata": {},
   "source": [
    "# **Exercise 7: Calculate BMI**\n",
    "\n",
    "Write a Python program that:\n",
    "\n",
    "* Prompts the user to enter their weight in kilograms and height in meters.\n",
    "* Calculates the Body Mass Index (BMI).\n",
    "* Prints the BMI.\n",
    "\n",
    "(Hint: The formula to calculate BMI is: BMI = weight / (height * height))"
   ]
  },
  {
   "cell_type": "code",
   "execution_count": 8,
   "metadata": {},
   "outputs": [
    {
     "name": "stdout",
     "output_type": "stream",
     "text": [
      "Your Body Mass Index (BMI) is 19.721036967980208\n"
     ]
    }
   ],
   "source": [
    "# prompt user to enter weight and height\n",
    "weight = float(input(\"Enter your weight in kilograms: \"))\n",
    "height = float(input(\"Enter your height in meters: \"))\n",
    "\n",
    "# calculate BMI\n",
    "BMI = weight / (height * height)\n",
    "\n",
    "# display BMI\n",
    "print(\"Your Body Mass Index (BMI) is\", BMI)"
   ]
  },
  {
   "cell_type": "markdown",
   "metadata": {},
   "source": [
    "# **Exercise 8: Compound Interest Calculator**\n",
    "\n",
    "Write a Python program that:\n",
    "\n",
    "* Prompts the user to enter the principal amount, rate of interest, time in years, and number of times interest is compounded per year. \n",
    "* Calculates the compound interest. \n",
    "* Prints the compound interest.\n",
    "\n",
    "(Hint: The formula to calculate compound interest is: **A=P(1+R/100n)nt**, where\n",
    "* A is the amount,\n",
    "* P is the principal amount,\n",
    "* R is the annual interest rate,\n",
    "* t is the time the money is invested for, and\n",
    "* n is the number of times interest is compounded per year)"
   ]
  },
  {
   "cell_type": "code",
   "execution_count": 9,
   "metadata": {},
   "outputs": [
    {
     "name": "stdout",
     "output_type": "stream",
     "text": [
      "The compound interest is 3045.28218925957\n"
     ]
    }
   ],
   "source": [
    "# prompt user for input\n",
    "P = float(input(\"Enter the principal amount: \"))\n",
    "R = float(input(\"Enter the rate of interest: \"))\n",
    "t = float(input(\"Enter the time in years: \"))\n",
    "n = float(input(\"Enter the number of times interest is compunded per year: \"))\n",
    "\n",
    "# calculate compund interest\n",
    "CI = P * (1 + (R/(100*n))) ** (n*t)\n",
    "\n",
    "# display compund interest\n",
    "print(\"The compound interest is\", CI)"
   ]
  },
  {
   "cell_type": "markdown",
   "metadata": {},
   "source": [
    "# **Exercise 9: Convert 97409 to Binary**\n",
    "\n",
    "Write a Python program that:\n",
    "\n",
    "* Converts the given integer 97409 to its binary representation.\n",
    "* Prints the binary representation."
   ]
  },
  {
   "cell_type": "code",
   "execution_count": 10,
   "metadata": {},
   "outputs": [
    {
     "name": "stdout",
     "output_type": "stream",
     "text": [
      "The binary representation is 10111110010000001\n"
     ]
    }
   ],
   "source": [
    "x = 97409\n",
    "\n",
    "bin0 = str(x % 2)\n",
    "x = x // 2\n",
    "bin1 = str(x % 2)\n",
    "x = x // 2\n",
    "bin2 = str(x % 2)\n",
    "x = x // 2\n",
    "bin3 = str(x % 2)\n",
    "x = x // 2\n",
    "bin4 = str(x % 2)\n",
    "x = x // 2\n",
    "bin5 = str(x % 2)\n",
    "x = x // 2\n",
    "bin6 = str(x % 2)\n",
    "x = x // 2\n",
    "bin7 = str(x % 2)\n",
    "x = x // 2\n",
    "bin8 = str(x % 2)\n",
    "x = x // 2\n",
    "bin9 = str(x % 2)\n",
    "x = x // 2\n",
    "bin10 = str(x % 2)\n",
    "x = x // 2\n",
    "bin11 = str(x % 2)\n",
    "x = x // 2\n",
    "bin12 = str(x % 2)\n",
    "x = x // 2\n",
    "bin13 = str(x % 2)\n",
    "x = x // 2\n",
    "bin14 = str(x % 2)\n",
    "x = x // 2\n",
    "bin15 = str(x % 2)\n",
    "x = x // 2\n",
    "bin16 = str(x % 2)\n",
    "\n",
    "print(\"The binary representation is\", bin16 + bin15 + bin14 + bin13 + bin12 + bin11 + bin10 + bin9 + bin8 + bin7 + bin6 + bin5 + bin4 + bin3 + bin2 + bin1 + bin0)"
   ]
  },
  {
   "cell_type": "markdown",
   "metadata": {},
   "source": [
    "# **Exercise 10: Convert 1011 to Decimal**\n",
    "\n",
    "Write a Python program that:\n",
    "\n",
    "* Converts the given binary 1011 to its decimal representation. \n",
    "* Prints the decimal representation."
   ]
  },
  {
   "cell_type": "code",
   "execution_count": 11,
   "metadata": {},
   "outputs": [
    {
     "name": "stdout",
     "output_type": "stream",
     "text": [
      "The decimal representation is 11\n"
     ]
    }
   ],
   "source": [
    "b = 1011\n",
    "\n",
    "d1 = (b % 10) * (2**0)\n",
    "b = b // 10\n",
    "d2 = (b % 10) * (2**1)\n",
    "b = b // 10\n",
    "d3 = (b % 10) * (2**2)\n",
    "b = b // 10\n",
    "d4 = (b % 10) * (2**3)\n",
    "\n",
    "print(\"The decimal representation is\", d1+d2+d3+d4)"
   ]
  }
 ],
 "metadata": {
  "kernelspec": {
   "display_name": "Python 3",
   "language": "python",
   "name": "python3"
  },
  "language_info": {
   "codemirror_mode": {
    "name": "ipython",
    "version": 3
   },
   "file_extension": ".py",
   "mimetype": "text/x-python",
   "name": "python",
   "nbconvert_exporter": "python",
   "pygments_lexer": "ipython3",
   "version": "3.12.3"
  }
 },
 "nbformat": 4,
 "nbformat_minor": 2
}
